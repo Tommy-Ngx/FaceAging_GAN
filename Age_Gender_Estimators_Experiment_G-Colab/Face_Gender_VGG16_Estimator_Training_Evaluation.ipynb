{
  "nbformat": 4,
  "nbformat_minor": 0,
  "metadata": {
    "colab": {
      "name": "Face_Gender_Estimator_Training_Evaluation.ipynb",
      "version": "0.3.2",
      "provenance": [],
      "collapsed_sections": [
        "LAZrCTjTD9eE",
        "WqVRivB1EBlA",
        "q8ECdxbire3U"
      ],
      "toc_visible": true,
      "machine_shape": "hm"
    },
    "kernelspec": {
      "name": "python3",
      "display_name": "Python 3"
    },
    "accelerator": "GPU"
  },
  "cells": [
    {
      "cell_type": "markdown",
      "metadata": {
        "id": "LAZrCTjTD9eE",
        "colab_type": "text"
      },
      "source": [
        "## Data procesing\n",
        "wiki + IMDB\n",
        "\n",
        "\n",
        "\n"
      ]
    },
    {
      "cell_type": "code",
      "metadata": {
        "id": "JgimaZgnKCfb",
        "colab_type": "code",
        "colab": {}
      },
      "source": [
        "!tar -xf wiki_crop.tar"
      ],
      "execution_count": 0,
      "outputs": []
    },
    {
      "cell_type": "code",
      "metadata": {
        "id": "82Z98xLiH-X7",
        "colab_type": "code",
        "colab": {}
      },
      "source": [
        "import scipy.io\n",
        "import os\n",
        "import pandas as pd\n",
        "import numpy as np\n",
        "import cv2\n",
        "from datetime import datetime\n",
        "\n",
        "from numpy import asarray\n",
        "from PIL import Image\n",
        "\n",
        "\n",
        "mat = scipy.io.loadmat('./wiki_crop/wiki.mat')\n",
        "\n",
        "instances = mat['wiki'][0][0][0].shape[1]\n",
        "columns = ['dob', 'photo_taken', 'full_path', 'gender', \"name\", \"face_location\", \"face_score\", \"second_face_score\"]\n",
        "df_wiki = pd.DataFrame(index=range(0, instances), columns=columns)\n",
        "for i in mat:\n",
        "  if i == \"wiki\":\n",
        "    curr_array = mat[i][0][0]\n",
        "    for j in range(len(curr_array)):\n",
        "      df_wiki[columns[j]] = pd.DataFrame(curr_array[j][0])"
      ],
      "execution_count": 0,
      "outputs": []
    },
    {
      "cell_type": "code",
      "metadata": {
        "id": "_iPJmyebUJrV",
        "colab_type": "code",
        "colab": {}
      },
      "source": [
        "mat = scipy.io.loadmat('./imdb_crop/imdb.mat')\n",
        "\n",
        "instances_imdb = mat['imdb'][0][0][0].shape[1]\n",
        "# columns = ['dob', 'photo_taken', 'full_path', 'gender', \"name\", \"face_location\", \"face_score\", \"second_face_score\"]\n",
        "df_imdb = pd.DataFrame(index=range(0, instances_imdb), columns=columns)\n",
        "for i in mat:\n",
        "  if i == \"imdb\":\n",
        "    curr_array = mat[i][0][0]\n",
        "    print(len(curr_array))\n",
        "    for j in range(0, len(curr_array)-2): #imdb has 10 columns\n",
        "      df_imdb[columns[j]] = pd.DataFrame(curr_array[j][0])"
      ],
      "execution_count": 0,
      "outputs": []
    },
    {
      "cell_type": "code",
      "metadata": {
        "id": "OM24X6_7NsXi",
        "colab_type": "code",
        "colab": {}
      },
      "source": [
        " datetime.fromordinal(max(int(720044) - 366,1))"
      ],
      "execution_count": 0,
      "outputs": []
    },
    {
      "cell_type": "code",
      "metadata": {
        "id": "b6Xw3AS3MQc-",
        "colab_type": "code",
        "colab": {}
      },
      "source": [
        "def cale_age(taken, dob):\n",
        "  \n",
        "  birth = datetime.fromordinal(max(int(dob) - 366,1))\n",
        "  \n",
        "  if birth.month < 7:\n",
        "    return taken - birth.year\n",
        "  else:\n",
        "    return taken - birth.year - 1\n",
        "\n",
        "df_wiki['age'] = [cale_age(df_wiki['photo_taken'][i], df_wiki['dob'][i]) for i in range(len(df_wiki['dob']))]\n",
        "#df_imdb['age'] = [cale_age(df_imdb['photo_taken'][i], df_imdb['dob'][i]) for i in range(len(df_imdb['dob']))]"
      ],
      "execution_count": 0,
      "outputs": []
    },
    {
      "cell_type": "code",
      "metadata": {
        "id": "TU47o430baM3",
        "colab_type": "code",
        "colab": {}
      },
      "source": [
        "#clean data\n",
        "#remove no face picture\n",
        "df_wiki = df_wiki[df_wiki['face_score'] != -np.inf]\n",
        "#remove more faces in one picuture\n",
        "df_wiki = df_wiki[df_wiki['second_face_score'].isna()]\n",
        "#threshold more than 3\n",
        "df_wiki = df_wiki[df_wiki['face_score'] >= 3]\n",
        "#remove no gender\n",
        "df_wiki = df_wiki[df_wiki['gender'].isna()==False]\n",
        "#reomve unuse columns\n",
        "df_wiki = df_wiki.drop(columns=['name', 'face_score', 'second_face_score', 'face_location'])\n"
      ],
      "execution_count": 0,
      "outputs": []
    },
    {
      "cell_type": "code",
      "metadata": {
        "id": "WmdheuMKbiji",
        "colab_type": "code",
        "colab": {}
      },
      "source": [
        "#clean data\n",
        "#remove no face picture\n",
        "df_imdb = df_imdb[df_imdb['face_score'] != -np.inf]\n",
        "#remove more faces in one picuture\n",
        "df_imdb = df_imdb[df_imdb['second_face_score'].isna()]\n",
        "#threshold more than 3\n",
        "df_imdb = df_imdb[df_imdb['face_score'] >= 3]\n",
        "#remove no gender\n",
        "df_imdb = df_imdb[df_imdb['gender'].isna()==False]\n",
        "#reomve unuse columns\n",
        "df_imdb = df_imdb.drop(columns=['name', 'face_score', 'second_face_score', 'face_location'])\n"
      ],
      "execution_count": 0,
      "outputs": []
    },
    {
      "cell_type": "code",
      "metadata": {
        "id": "g9_IYBzebCTB",
        "colab_type": "code",
        "colab": {}
      },
      "source": [
        "df_wiki.head()"
      ],
      "execution_count": 0,
      "outputs": []
    },
    {
      "cell_type": "code",
      "metadata": {
        "id": "1dT7gJmLXBZF",
        "colab_type": "code",
        "colab": {}
      },
      "source": [
        "df_wiki = df_wiki[df_wiki['age']>0]\n",
        "df_wiki = df_wiki[df_wiki['age']<=100]\n",
        "\n",
        "# df_imdb = df_imdb[df_imdb['age']>0]\n",
        "# df_imdb = df_imdb[df_imdb['age']<=100]"
      ],
      "execution_count": 0,
      "outputs": []
    },
    {
      "cell_type": "code",
      "metadata": {
        "id": "qCQ4q81sbvw1",
        "colab_type": "code",
        "colab": {}
      },
      "source": [
        "# df = df[df['age']>0]\n",
        "# df = df[df['age']<=100]"
      ],
      "execution_count": 0,
      "outputs": []
    },
    {
      "cell_type": "code",
      "metadata": {
        "id": "hWkfvs8tVZBA",
        "colab_type": "code",
        "colab": {}
      },
      "source": [
        "target_size = (224,224)\n",
        "#update to pixel value\n",
        "\n",
        "def getImagetoPixels(image_path, db='wiki'): #db = wiki or imdb\n",
        "  image = cv2.imread('{}_crop/{}'.format(db, image_path[0]), cv2.IMREAD_COLOR)\n",
        "  image = cv2.resize(image,target_size)\n",
        "#   print(db)\n",
        "  return image.reshape(1,-1)[0]"
      ],
      "execution_count": 0,
      "outputs": []
    },
    {
      "cell_type": "code",
      "metadata": {
        "id": "ZZ72LgerZQiJ",
        "colab_type": "code",
        "colab": {}
      },
      "source": [
        "# image = cv2.imread('./wiki_crop/00/10049200_1891-09-16_1958.jpg', cv2.IMREAD_COLOR)\n",
        "# image = cv2.resize(image,target_size)\n",
        "# image = getImagetoPixels(['00/10049200_1891-09-16_1958.jpg'])\n",
        "# image.reshape(1,-1)[0]\n",
        "df_wiki['pixels'] = df_wiki['full_path'].apply(getImagetoPixels)"
      ],
      "execution_count": 0,
      "outputs": []
    },
    {
      "cell_type": "code",
      "metadata": {
        "id": "TkvJt6XWeNCk",
        "colab_type": "code",
        "colab": {}
      },
      "source": [
        "df_imdb['pixels'] = df_imdb['full_path'].apply(getImagetoPixels)"
      ],
      "execution_count": 0,
      "outputs": []
    },
    {
      "cell_type": "code",
      "metadata": {
        "id": "PvG0WZZBSWUH",
        "colab_type": "code",
        "colab": {}
      },
      "source": [
        "# df = df_wiki.append(df_imdb, sort=False)"
      ],
      "execution_count": 0,
      "outputs": []
    },
    {
      "cell_type": "code",
      "metadata": {
        "id": "ALM7jW49Ni_q",
        "colab_type": "code",
        "colab": {}
      },
      "source": [
        "df = df_wiki"
      ],
      "execution_count": 0,
      "outputs": []
    },
    {
      "cell_type": "code",
      "metadata": {
        "id": "qUoCKP8xpHOZ",
        "colab_type": "code",
        "colab": {}
      },
      "source": [
        "del df_wiki\n",
        "# del df_imdb"
      ],
      "execution_count": 0,
      "outputs": []
    },
    {
      "cell_type": "code",
      "metadata": {
        "id": "ngs7SYNDaIG4",
        "colab_type": "code",
        "outputId": "07d58359-3551-4a73-a1dd-0dbd05c2ff43",
        "colab": {
          "base_uri": "https://localhost:8080/",
          "height": 34
        }
      },
      "source": [
        "df.shape #(115549, 6)"
      ],
      "execution_count": 0,
      "outputs": [
        {
          "output_type": "execute_result",
          "data": {
            "text/plain": [
              "(22138, 6)"
            ]
          },
          "metadata": {
            "tags": []
          },
          "execution_count": 12
        }
      ]
    },
    {
      "cell_type": "code",
      "metadata": {
        "id": "03AUkWlVh6DR",
        "colab_type": "code",
        "outputId": "8eab2c3e-e4dc-443e-ec0d-fee5c3989d74",
        "colab": {
          "base_uri": "https://localhost:8080/",
          "height": 34
        }
      },
      "source": [
        "# from PIL import Image\n",
        "from keras.preprocessing.image import load_img, save_img, img_to_array\n",
        "from keras.applications.imagenet_utils import preprocess_input\n",
        "from keras.preprocessing import image\n",
        "import matplotlib.pyplot as plt\n",
        "from keras.layers import Layer, Input, Dropout, Conv2D, Activation, add, BatchNormalization, UpSampling2D, ZeroPadding2D, Conv2DTranspose, Flatten, MaxPooling2D, AveragePooling2D\n",
        "from keras.layers.advanced_activations import LeakyReLU\n",
        "from keras.layers.core import Dense\n",
        "from keras.optimizers import Adam\n",
        "from keras.backend import mean\n",
        "from keras.models import Model, Sequential\n",
        "from keras.utils import plot_model, to_categorical\n",
        "from keras.engine.topology import Network #for untrainable discrimator model but weight still is updated\n",
        "from keras.callbacks import ModelCheckpoint, TensorBoard"
      ],
      "execution_count": 0,
      "outputs": [
        {
          "output_type": "stream",
          "text": [
            "Using TensorFlow backend.\n"
          ],
          "name": "stderr"
        }
      ]
    },
    {
      "cell_type": "code",
      "metadata": {
        "id": "TDdjFmHudRIo",
        "colab_type": "code",
        "colab": {}
      },
      "source": [
        "target_classes = to_categorical(df['gender'].values, 2)"
      ],
      "execution_count": 0,
      "outputs": []
    },
    {
      "cell_type": "code",
      "metadata": {
        "id": "RVQOIQXITlrW",
        "colab_type": "code",
        "colab": {}
      },
      "source": [
        "image_features = []\n",
        "for i in range(0, df.shape[0]):\n",
        "  image_features.append(df['pixels'].values[i])"
      ],
      "execution_count": 0,
      "outputs": []
    },
    {
      "cell_type": "code",
      "metadata": {
        "id": "K3i2NJ7Rin_V",
        "colab_type": "code",
        "colab": {}
      },
      "source": [
        "from tempfile import mkdtemp\n",
        "import os.path as path\n",
        "\n",
        "filename_array = path.join(mkdtemp(), 'image_features_array.dat')\n",
        "fp_image_features_array = np.memmap(filename_array, dtype='float32', mode='w+',\\\n",
        "                                    shape=(len(image_features), 224*224*3))"
      ],
      "execution_count": 0,
      "outputs": []
    },
    {
      "cell_type": "code",
      "metadata": {
        "id": "1RkjwJKWnISc",
        "colab_type": "code",
        "colab": {}
      },
      "source": [
        "# for i in range(0, len(image_features)):\n",
        "fp_image_features_array[:] = np.array(image_features[:])\n",
        "#   print(i)"
      ],
      "execution_count": 0,
      "outputs": []
    },
    {
      "cell_type": "code",
      "metadata": {
        "id": "0WTnGXG9eZI_",
        "colab_type": "code",
        "colab": {}
      },
      "source": [
        "del image_features"
      ],
      "execution_count": 0,
      "outputs": []
    },
    {
      "cell_type": "code",
      "metadata": {
        "id": "zcT5MxfnsKku",
        "colab_type": "code",
        "colab": {}
      },
      "source": [
        "fp_image_features_array.flush()\n",
        "# fp_image_features_array.close()"
      ],
      "execution_count": 0,
      "outputs": []
    },
    {
      "cell_type": "code",
      "metadata": {
        "id": "tuAvJ_D6PVu5",
        "colab_type": "code",
        "colab": {}
      },
      "source": [
        "fp_image_features_array.shape"
      ],
      "execution_count": 0,
      "outputs": []
    },
    {
      "cell_type": "code",
      "metadata": {
        "id": "exKQ8y20mt6c",
        "colab_type": "code",
        "colab": {}
      },
      "source": [
        "# fp_image_features_array[:] = np.array(image_features)"
      ],
      "execution_count": 0,
      "outputs": []
    },
    {
      "cell_type": "code",
      "metadata": {
        "id": "47VB0MAKaBiX",
        "colab_type": "code",
        "colab": {}
      },
      "source": [
        "# image_features = np.array(image_features)"
      ],
      "execution_count": 0,
      "outputs": []
    },
    {
      "cell_type": "code",
      "metadata": {
        "id": "GZNlrmEDecdp",
        "colab_type": "code",
        "colab": {}
      },
      "source": [
        "from tempfile import mkdtemp\n",
        "import os.path as path\n",
        "filename = path.join(mkdtemp(), 'imageFeaturefile.dat')\n",
        "fp = np.memmap(filename, dtype='float32', mode='w+', shape=(fp_image_features_array.shape[0],224,224,3))"
      ],
      "execution_count": 0,
      "outputs": []
    },
    {
      "cell_type": "code",
      "metadata": {
        "id": "dvPknIjIgc-M",
        "colab_type": "code",
        "colab": {}
      },
      "source": [
        "fp[:] = fp_image_features_array.reshape(fp_image_features_array.shape[0], 224, 224, 3)"
      ],
      "execution_count": 0,
      "outputs": []
    },
    {
      "cell_type": "code",
      "metadata": {
        "id": "rAs1lYPAeqD6",
        "colab_type": "code",
        "colab": {}
      },
      "source": [
        "# fp[:] = image_features.reshape(image_features.shape[0], 224, 224, 3)"
      ],
      "execution_count": 0,
      "outputs": []
    },
    {
      "cell_type": "code",
      "metadata": {
        "id": "7G7Mq6ZtEvAB",
        "colab_type": "code",
        "colab": {}
      },
      "source": [
        "fp[:] = fp/255"
      ],
      "execution_count": 0,
      "outputs": []
    },
    {
      "cell_type": "code",
      "metadata": {
        "id": "bJhoIl_L2F8P",
        "colab_type": "code",
        "colab": {}
      },
      "source": [
        "# from sklearn.utils import shuffle\n",
        "# fp = shuffle(fp)"
      ],
      "execution_count": 0,
      "outputs": []
    },
    {
      "cell_type": "code",
      "metadata": {
        "id": "66846O0Ilxxp",
        "colab_type": "code",
        "colab": {}
      },
      "source": [
        "fp.shape[0] * 0.7"
      ],
      "execution_count": 0,
      "outputs": []
    },
    {
      "cell_type": "code",
      "metadata": {
        "id": "dfpKWC58h68o",
        "colab_type": "code",
        "colab": {}
      },
      "source": [
        "train_x_mp = path.join(mkdtemp(), 'train_x.dat')\n",
        "train_x = np.memmap(train_x_mp, dtype='float32', mode='w+', shape=(int(fp.shape[0] * 0.7),224,224,3))\n",
        "\n",
        "train_y_mp = path.join(mkdtemp(), 'train_y.dat')\n",
        "train_y = np.memmap(train_y_mp, dtype='float32', mode='w+', shape=(int(fp.shape[0] * 0.7),2))\n",
        "\n",
        "# test_x_mp = path.join(mkdtemp(), 'test_x.dat')\n",
        "# test_x = np.memmap(test_x_mp, dtype='float32', mode='w+', shape=(int(fp.shape[0] * 0.3),224,224,3))\n",
        "\n",
        "# test_y_mp = path.join(mkdtemp(), 'test_y.dat')\n",
        "# test_y = np.memmap(test_y_mp, dtype='float32', mode='w+', shape=(int(fp.shape[0] * 0.3),2))\n",
        "\n",
        "test_x_mp = path.join(mkdtemp(), 'test_x.dat')\n",
        "test_x = np.memmap(test_x_mp, dtype='float32', mode='w+', shape=(6642,224,224,3))\n",
        "\n",
        "test_y_mp = path.join(mkdtemp(), 'test_y.dat')\n",
        "test_y = np.memmap(test_y_mp, dtype='float32', mode='w+', shape=(6642,2))"
      ],
      "execution_count": 0,
      "outputs": []
    },
    {
      "cell_type": "code",
      "metadata": {
        "id": "OsyeN4ndg7Ap",
        "colab_type": "code",
        "colab": {}
      },
      "source": [
        "from sklearn.model_selection import train_test_split\n",
        "train_x[:], test_x[:], train_y[:], test_y[:] = train_test_split(fp, target_classes, test_size=0.3)"
      ],
      "execution_count": 0,
      "outputs": []
    },
    {
      "cell_type": "code",
      "metadata": {
        "id": "DImONOs36YMo",
        "colab_type": "code",
        "outputId": "57fafc05-163a-4dcb-fb64-ca9a26126726",
        "colab": {
          "base_uri": "https://localhost:8080/",
          "height": 34
        }
      },
      "source": [
        "test_x.shape"
      ],
      "execution_count": 0,
      "outputs": [
        {
          "output_type": "execute_result",
          "data": {
            "text/plain": [
              "(6642, 224, 224, 3)"
            ]
          },
          "metadata": {
            "tags": []
          },
          "execution_count": 24
        }
      ]
    },
    {
      "cell_type": "markdown",
      "metadata": {
        "id": "WqVRivB1EBlA",
        "colab_type": "text"
      },
      "source": [
        "## Involving VGG FACE\n",
        "https://github.com/rcmalli/keras-vggface.git"
      ]
    },
    {
      "cell_type": "code",
      "metadata": {
        "id": "FxmwxOzNECXs",
        "colab_type": "code",
        "outputId": "d9bc62b6-56b7-4936-b8c8-ea4ade8b6eb0",
        "colab": {
          "base_uri": "https://localhost:8080/",
          "height": 389
        }
      },
      "source": [
        "pip install git+https://github.com/rcmalli/keras-vggface.git"
      ],
      "execution_count": 0,
      "outputs": [
        {
          "output_type": "stream",
          "text": [
            "Collecting git+https://github.com/rcmalli/keras-vggface.git\n",
            "  Cloning https://github.com/rcmalli/keras-vggface.git to /tmp/pip-req-build-xc5t52fh\n",
            "  Running command git clone -q https://github.com/rcmalli/keras-vggface.git /tmp/pip-req-build-xc5t52fh\n",
            "Requirement already satisfied: numpy>=1.9.1 in /usr/local/lib/python3.6/dist-packages (from keras-vggface==0.6) (1.16.4)\n",
            "Requirement already satisfied: scipy>=0.14 in /usr/local/lib/python3.6/dist-packages (from keras-vggface==0.6) (1.3.0)\n",
            "Requirement already satisfied: h5py in /usr/local/lib/python3.6/dist-packages (from keras-vggface==0.6) (2.8.0)\n",
            "Requirement already satisfied: pillow in /usr/local/lib/python3.6/dist-packages (from keras-vggface==0.6) (4.3.0)\n",
            "Requirement already satisfied: keras in /usr/local/lib/python3.6/dist-packages (from keras-vggface==0.6) (2.2.4)\n",
            "Requirement already satisfied: six>=1.9.0 in /usr/local/lib/python3.6/dist-packages (from keras-vggface==0.6) (1.12.0)\n",
            "Requirement already satisfied: pyyaml in /usr/local/lib/python3.6/dist-packages (from keras-vggface==0.6) (3.13)\n",
            "Requirement already satisfied: olefile in /usr/local/lib/python3.6/dist-packages (from pillow->keras-vggface==0.6) (0.46)\n",
            "Requirement already satisfied: keras-applications>=1.0.6 in /usr/local/lib/python3.6/dist-packages (from keras->keras-vggface==0.6) (1.0.8)\n",
            "Requirement already satisfied: keras-preprocessing>=1.0.5 in /usr/local/lib/python3.6/dist-packages (from keras->keras-vggface==0.6) (1.1.0)\n",
            "Building wheels for collected packages: keras-vggface\n",
            "  Building wheel for keras-vggface (setup.py) ... \u001b[?25l\u001b[?25hdone\n",
            "  Created wheel for keras-vggface: filename=keras_vggface-0.6-cp36-none-any.whl size=8311 sha256=79aaab75a0532f95fc01f4cb6b4b5d579806191d270513a6fe0a7a31b2607bcf\n",
            "  Stored in directory: /tmp/pip-ephem-wheel-cache-4k2jv9et/wheels/36/07/46/06c25ce8e9cd396dabe151ea1d8a2bc28dafcb11321c1f3a6d\n",
            "Successfully built keras-vggface\n",
            "Installing collected packages: keras-vggface\n",
            "Successfully installed keras-vggface-0.6\n"
          ],
          "name": "stdout"
        }
      ]
    },
    {
      "cell_type": "code",
      "metadata": {
        "id": "kKLt2s-DmmNm",
        "colab_type": "code",
        "outputId": "6420f04a-22ff-420f-e4c3-ebb89d39fedd",
        "colab": {
          "base_uri": "https://localhost:8080/",
          "height": 301
        }
      },
      "source": [
        "from keras_vggface.vggface import VGGFace\n",
        "vgg_model = VGGFace(include_top=False, model='vgg16', weights='vggface', input_shape=(224, 224, 3))"
      ],
      "execution_count": 0,
      "outputs": [
        {
          "output_type": "stream",
          "text": [
            "WARNING: Logging before flag parsing goes to stderr.\n",
            "W0812 09:22:14.558366 139938199877504 deprecation_wrapper.py:119] From /usr/local/lib/python3.6/dist-packages/keras/backend/tensorflow_backend.py:74: The name tf.get_default_graph is deprecated. Please use tf.compat.v1.get_default_graph instead.\n",
            "\n",
            "W0812 09:22:14.786098 139938199877504 deprecation_wrapper.py:119] From /usr/local/lib/python3.6/dist-packages/keras/backend/tensorflow_backend.py:517: The name tf.placeholder is deprecated. Please use tf.compat.v1.placeholder instead.\n",
            "\n",
            "W0812 09:22:14.839571 139938199877504 deprecation_wrapper.py:119] From /usr/local/lib/python3.6/dist-packages/keras/backend/tensorflow_backend.py:4138: The name tf.random_uniform is deprecated. Please use tf.random.uniform instead.\n",
            "\n",
            "W0812 09:22:14.940340 139938199877504 deprecation_wrapper.py:119] From /usr/local/lib/python3.6/dist-packages/keras/backend/tensorflow_backend.py:3976: The name tf.nn.max_pool is deprecated. Please use tf.nn.max_pool2d instead.\n",
            "\n"
          ],
          "name": "stderr"
        },
        {
          "output_type": "stream",
          "text": [
            "Downloading data from https://github.com/rcmalli/keras-vggface/releases/download/v2.0/rcmalli_vggface_tf_notop_vgg16.h5\n",
            "58916864/58909280 [==============================] - 1s 0us/step\n"
          ],
          "name": "stdout"
        },
        {
          "output_type": "stream",
          "text": [
            "W0812 09:22:16.692734 139938199877504 deprecation_wrapper.py:119] From /usr/local/lib/python3.6/dist-packages/keras/backend/tensorflow_backend.py:174: The name tf.get_default_session is deprecated. Please use tf.compat.v1.get_default_session instead.\n",
            "\n",
            "W0812 09:22:16.694360 139938199877504 deprecation_wrapper.py:119] From /usr/local/lib/python3.6/dist-packages/keras/backend/tensorflow_backend.py:181: The name tf.ConfigProto is deprecated. Please use tf.compat.v1.ConfigProto instead.\n",
            "\n"
          ],
          "name": "stderr"
        }
      ]
    },
    {
      "cell_type": "code",
      "metadata": {
        "id": "82J-hWMjxXHF",
        "colab_type": "code",
        "colab": {}
      },
      "source": [
        "vgg_model.summary()"
      ],
      "execution_count": 0,
      "outputs": []
    },
    {
      "cell_type": "code",
      "metadata": {
        "id": "XWVnLgbgPSpC",
        "colab_type": "code",
        "outputId": "be9ca129-7087-4c89-9bb1-42ba815d8f5c",
        "colab": {
          "base_uri": "https://localhost:8080/",
          "height": 90
        }
      },
      "source": [
        "#add top layers\n",
        "last_layer  = vgg_model.get_layer('pool5').output\n",
        "for layer in vgg_model.layers:\n",
        "  layer.trainable = False\n",
        "\n",
        "x = Conv2D(4096, (7, 7), activation='relu')(last_layer)\n",
        "x = Dropout(0.5)(x)\n",
        "x = Conv2D(4096, (1, 1), activation='relu')(x)\n",
        "x = Dropout(0.5)(x)\n",
        "x = Conv2D(2, (1,1),name=\"prediction\")(x) #for gender estimator\n",
        "\n",
        "x = Flatten(name='flatten')(x)\n",
        "output = Activation('softmax')(x)\n",
        "\n",
        "facegender_vgg_model = Model(vgg_model.input, output)"
      ],
      "execution_count": 0,
      "outputs": [
        {
          "output_type": "stream",
          "text": [
            "W0812 09:22:20.182567 139938199877504 deprecation.py:506] From /usr/local/lib/python3.6/dist-packages/keras/backend/tensorflow_backend.py:3445: calling dropout (from tensorflow.python.ops.nn_ops) with keep_prob is deprecated and will be removed in a future version.\n",
            "Instructions for updating:\n",
            "Please use `rate` instead of `keep_prob`. Rate should be set to `rate = 1 - keep_prob`.\n"
          ],
          "name": "stderr"
        }
      ]
    },
    {
      "cell_type": "code",
      "metadata": {
        "id": "v7EIJfmruIzi",
        "colab_type": "code",
        "outputId": "7e77ae8b-dbe0-4ab9-d12b-84c5430970d4",
        "colab": {
          "base_uri": "https://localhost:8080/",
          "height": 72
        }
      },
      "source": [
        "facegender_vgg_model.compile(loss='categorical_crossentropy', \\\n",
        "                          optimizer=Adam(), \\\n",
        "                          metrics=['accuracy'])"
      ],
      "execution_count": 0,
      "outputs": [
        {
          "output_type": "stream",
          "text": [
            "W0812 09:22:20.546099 139938199877504 deprecation_wrapper.py:119] From /usr/local/lib/python3.6/dist-packages/keras/optimizers.py:790: The name tf.train.Optimizer is deprecated. Please use tf.compat.v1.train.Optimizer instead.\n",
            "\n"
          ],
          "name": "stderr"
        }
      ]
    },
    {
      "cell_type": "code",
      "metadata": {
        "id": "CcJk7NHI3nQG",
        "colab_type": "code",
        "colab": {}
      },
      "source": [
        "for layer in facegender_vgg_model.layers:\n",
        "    print(layer, layer.trainable)"
      ],
      "execution_count": 0,
      "outputs": []
    },
    {
      "cell_type": "code",
      "metadata": {
        "id": "xkmifGWQ1de2",
        "colab_type": "code",
        "colab": {}
      },
      "source": [
        "checkpointer = ModelCheckpoint(filepath='gender_model.h5', \\\n",
        "                               monitor= 'val_loss', \\\n",
        "                               verbose=1, \\\n",
        "                               save_best_only=True,\\\n",
        "                               mode = 'auto'\n",
        "                               )"
      ],
      "execution_count": 0,
      "outputs": []
    },
    {
      "cell_type": "code",
      "metadata": {
        "id": "7vyzT5wXtdYK",
        "colab_type": "code",
        "colab": {}
      },
      "source": [
        ""
      ],
      "execution_count": 0,
      "outputs": []
    },
    {
      "cell_type": "code",
      "metadata": {
        "id": "EVYecQ51SIDX",
        "colab_type": "code",
        "colab": {}
      },
      "source": [
        "loss_track = TensorBoard(log_dir='./face_gender_estimator_logs', histogram_freq=0, \\\n",
        "                            batch_size=256, \\\n",
        "                            write_graph=True,\\\n",
        "                            write_grads=False, \\\n",
        "                            write_images=False, \\\n",
        "                            embeddings_freq=0, \\\n",
        "                            embeddings_layer_names=None, \\\n",
        "                            embeddings_metadata=None,\\\n",
        "                            embeddings_data=None,\\\n",
        "                            update_freq='epoch')"
      ],
      "execution_count": 0,
      "outputs": []
    },
    {
      "cell_type": "code",
      "metadata": {
        "id": "DGPMxCXr15M4",
        "colab_type": "code",
        "colab": {}
      },
      "source": [
        "epochs = 250\n",
        "batch_size = 256\n",
        "scores = []\n",
        "for i in range(epochs):\n",
        "\n",
        "  ix_train = np.random.choice(train_x.shape[0], size=batch_size)\n",
        "  score = facegender_vgg_model.fit(train_x[ix_train], train_y[ix_train]\n",
        " , epochs=1, validation_data=(test_x, test_y), callbacks=[checkpointer])\n",
        "  \n",
        "  print(i)\n",
        "  \n",
        "  scores.append(score)"
      ],
      "execution_count": 0,
      "outputs": []
    },
    {
      "cell_type": "code",
      "metadata": {
        "id": "6m67Y9ELKJIf",
        "colab_type": "code",
        "outputId": "bd16ba6a-53af-47e9-e53a-d92db44929ea",
        "colab": {
          "base_uri": "https://localhost:8080/",
          "height": 34
        }
      },
      "source": [
        "import time\n",
        "\n",
        "time.ctime()\n",
        "\n",
        "#10:30 ~ 15:14"
      ],
      "execution_count": 0,
      "outputs": [
        {
          "output_type": "execute_result",
          "data": {
            "text/plain": [
              "'Mon Aug 12 15:13:58 2019'"
            ]
          },
          "metadata": {
            "tags": []
          },
          "execution_count": 32
        }
      ]
    },
    {
      "cell_type": "code",
      "metadata": {
        "id": "iNL1MjP_l5Yi",
        "colab_type": "code",
        "colab": {}
      },
      "source": [
        "# scores = []\n",
        "# epochs = 256\n",
        "# batch_size = 256\n",
        "# # batch_train = np.random.choice(train_x.shape[0], size= batch_size)\n",
        "# score = facegender_vgg_model.fit(train_x, train_y, \\\n",
        "#                               batch_size=128,\\\n",
        "#                               epochs=256,\\\n",
        "#                               validation_data=(test_x, test_y), \\\n",
        "#                               callbacks=[checkpointer, loss_track])\n",
        "#   print(datetime.now())\n",
        "#   scores.append(score)"
      ],
      "execution_count": 0,
      "outputs": []
    },
    {
      "cell_type": "code",
      "metadata": {
        "id": "i05fzqIpMOZd",
        "colab_type": "code",
        "colab": {}
      },
      "source": [
        "# Load the TensorBoard notebook extension\n",
        "# %load_ext tensorboard"
      ],
      "execution_count": 0,
      "outputs": []
    },
    {
      "cell_type": "code",
      "metadata": {
        "id": "kkcneVsicE6N",
        "colab_type": "code",
        "colab": {}
      },
      "source": [
        "# %tensorboard --logdir face_estimator_logs/"
      ],
      "execution_count": 0,
      "outputs": []
    },
    {
      "cell_type": "code",
      "metadata": {
        "id": "-SCYWTFcm0Wq",
        "colab_type": "code",
        "colab": {}
      },
      "source": [
        "from keras.models import load_model\n",
        "  \n",
        "# gender_vgg_model_new = load_model(\"gender_model.h5\")   \n",
        "facegender_vgg_model.save_weights('gender_model_weights.h5')"
      ],
      "execution_count": 0,
      "outputs": []
    },
    {
      "cell_type": "code",
      "metadata": {
        "id": "QPycCnpxia4Z",
        "colab_type": "code",
        "colab": {}
      },
      "source": [
        "cp ./gender_model.h5 ./drive/'My Drive'/Test_DATA/BestModel_estimator/"
      ],
      "execution_count": 0,
      "outputs": []
    },
    {
      "cell_type": "markdown",
      "metadata": {
        "id": "q8ECdxbire3U",
        "colab_type": "text"
      },
      "source": [
        "##Evaluation model"
      ]
    },
    {
      "cell_type": "code",
      "metadata": {
        "id": "7OCbLXXwNyDZ",
        "colab_type": "code",
        "colab": {}
      },
      "source": [
        "val_loss_change = []\n",
        "loss_change = []\n",
        "val_acc_process = []\n",
        "acc_process = []\n",
        "\n",
        "for i in range(0, len(scores)):\n",
        "  val_loss_change.append(scores[i].history['val_loss'])\n",
        "  loss_change.append(scores[i].history['loss'])\n",
        "  val_acc_process.append(scores[i].history['val_acc'])\n",
        "  acc_process.append(scores[i].history['acc'])\n",
        "  \n",
        "  "
      ],
      "execution_count": 0,
      "outputs": []
    },
    {
      "cell_type": "code",
      "metadata": {
        "id": "hgsOUs1mcptZ",
        "colab_type": "code",
        "outputId": "4528fda6-7ce8-410f-8d48-495060143b94",
        "colab": {
          "base_uri": "https://localhost:8080/",
          "height": 269
        }
      },
      "source": [
        "plt.plot(val_loss_change, label='val_loss')\n",
        "plt.plot(loss_change, label='train_loss')\n",
        "plt.legend(loc='upper right')\n",
        "plt.show()"
      ],
      "execution_count": 0,
      "outputs": [
        {
          "output_type": "display_data",
          "data": {
            "image/png": "[encoded data removed]",
            "text/plain": [
              "<Figure size 432x288 with 1 Axes>"
            ]
          },
          "metadata": {
            "tags": []
          }
        }
      ]
    },
    {
      "cell_type": "code",
      "metadata": {
        "id": "J1B8_L4VeUFi",
        "colab_type": "code",
        "outputId": "2ed23d24-d8b3-4fd6-b2e9-97c8c220abe5",
        "colab": {
          "base_uri": "https://localhost:8080/",
          "height": 269
        }
      },
      "source": [
        "plt.plot(val_loss_change, label='val_acc')\n",
        "plt.plot(loss_change, label='acc')\n",
        "plt.legend(loc='upper right')\n",
        "plt.show()"
      ],
      "execution_count": 0,
      "outputs": [
        {
          "output_type": "display_data",
          "data": {
            "image/png": "[encoded data removed]",
            "text/plain": [
              "<Figure size 432x288 with 1 Axes>"
            ]
          },
          "metadata": {
            "tags": []
          }
        }
      ]
    },
    {
      "cell_type": "code",
      "metadata": {
        "id": "EVrtXcOVkUBp",
        "colab_type": "code",
        "outputId": "6cbc1699-42d1-4a76-86ed-d083c789f356",
        "colab": {
          "base_uri": "https://localhost:8080/",
          "height": 52
        }
      },
      "source": [
        "# facegender_vgg_model.evaluate(test_x, test_y, verbose=1)\n",
        "gender_vgg_model_new.evaluate(test_x, test_y, verbose=1)"
      ],
      "execution_count": 0,
      "outputs": [
        {
          "output_type": "stream",
          "text": [
            "6642/6642 [==============================] - 83s 12ms/step\n"
          ],
          "name": "stdout"
        },
        {
          "output_type": "execute_result",
          "data": {
            "text/plain": [
              "[0.08615934374402603, 0.9733514001088772]"
            ]
          },
          "metadata": {
            "tags": []
          },
          "execution_count": 41
        }
      ]
    },
    {
      "cell_type": "code",
      "metadata": {
        "id": "Uj83UubblWWv",
        "colab_type": "code",
        "colab": {}
      },
      "source": [
        "len(test_x)"
      ],
      "execution_count": 0,
      "outputs": []
    },
    {
      "cell_type": "code",
      "metadata": {
        "id": "HaxHP5AUcLsI",
        "colab_type": "code",
        "colab": {}
      },
      "source": [
        "preditions = facegender_vgg_model.predict(test_x)\n"
      ],
      "execution_count": 0,
      "outputs": []
    },
    {
      "cell_type": "code",
      "metadata": {
        "id": "i8aJHXX1cCHs",
        "colab_type": "code",
        "colab": {}
      },
      "source": [
        "output_indexes = np.array([i for i in range(0, 2)])\n",
        "apparent_predictions = np.sum(preditions * output_indexes, axis = 1)"
      ],
      "execution_count": 0,
      "outputs": []
    },
    {
      "cell_type": "code",
      "metadata": {
        "id": "TQ3-35BUcE4U",
        "colab_type": "code",
        "outputId": "8593a5b6-6c0e-48c7-f85d-fe8e087e4c93",
        "colab": {
          "base_uri": "https://localhost:8080/",
          "height": 52
        }
      },
      "source": [
        "MAE = 0\n",
        " \n",
        "for i in range(0 ,apparent_predictions.shape[0]):\n",
        "  prediction = int(apparent_predictions[i])\n",
        "  actual = np.argmax(test_y[i])\n",
        "\n",
        "  abs_error = abs(prediction - actual)\n",
        "  MAE = MAE + abs_error\n",
        "\n",
        "MAE = MAE / apparent_predictions.shape[0]\n",
        " \n",
        "print(\"mae: \",MAE)\n",
        "print(\"instances: \",apparent_predictions.shape[0])"
      ],
      "execution_count": 0,
      "outputs": [
        {
          "output_type": "stream",
          "text": [
            "mae:  0.37308039747064137\n",
            "instances:  6642\n"
          ],
          "name": "stdout"
        }
      ]
    },
    {
      "cell_type": "code",
      "metadata": {
        "id": "dKVOpLAzcHD2",
        "colab_type": "code",
        "outputId": "4d4475fe-d2f2-46f1-dbaf-d4c98efe712d",
        "colab": {
          "base_uri": "https://localhost:8080/",
          "height": 52
        }
      },
      "source": [
        "from sklearn.metrics import classification_report, confusion_matrix\n",
        " \n",
        "predictions = facegender_vgg_model.predict(test_x)\n",
        " \n",
        "pred_list = []; actual_list = []\n",
        " \n",
        "for pred in predictions:\n",
        "   pred_list.append(np.argmax(pred))\n",
        "\n",
        "for pred in test_y:\n",
        "  actual_list.append(np.argmax(pred))\n",
        "\n",
        "confusion_matrix(actual_list, pred_list)"
      ],
      "execution_count": 0,
      "outputs": [
        {
          "output_type": "execute_result",
          "data": {
            "text/plain": [
              "array([[1781,  146],\n",
              "       [  55, 4660]])"
            ]
          },
          "metadata": {
            "tags": []
          },
          "execution_count": 46
        }
      ]
    },
    {
      "cell_type": "markdown",
      "metadata": {
        "id": "DF8l-29VlV1v",
        "colab_type": "text"
      },
      "source": [
        "##Unit Test"
      ]
    },
    {
      "cell_type": "code",
      "metadata": {
        "id": "dAJLDyEClW1P",
        "colab_type": "code",
        "colab": {}
      },
      "source": [
        "#load image\n",
        "# def load_image():\n",
        "from keras.preprocessing import image\n",
        "from keras.preprocessing.image import ImageDataGenerator"
      ],
      "execution_count": 0,
      "outputs": []
    },
    {
      "cell_type": "code",
      "metadata": {
        "id": "R_oyRgM2lrnc",
        "colab_type": "code",
        "colab": {}
      },
      "source": [
        "file = '009A11.JPG'\n",
        "img = image.load_img(file, target_size=(224,224))\n",
        "img = image.img_to_array(img)\n",
        "img = np.expand_dims(img, axis=0)\n",
        "img = img/255"
      ],
      "execution_count": 0,
      "outputs": []
    },
    {
      "cell_type": "code",
      "metadata": {
        "id": "3znz_RwbhfqF",
        "colab_type": "code",
        "colab": {}
      },
      "source": [
        "# for img_path in os.listdir('009A11.JPG'):\n",
        "  img_array = cv2.imread('009A11.JPG')\n",
        "  if img_array is not None:\n",
        "      img = cv2.resize(img_array, (224,224))\n",
        "      img = np.expand_dims(img, axis=0)\n",
        "      img = img/255"
      ],
      "execution_count": 0,
      "outputs": []
    },
    {
      "cell_type": "code",
      "metadata": {
        "id": "-EVQr1RimD5h",
        "colab_type": "code",
        "colab": {}
      },
      "source": [
        "pred = facegender_vgg_model.predict(img)"
      ],
      "execution_count": 0,
      "outputs": []
    },
    {
      "cell_type": "code",
      "metadata": {
        "id": "CZWSqVBymRJJ",
        "colab_type": "code",
        "outputId": "b84f4328-1aa4-47a5-ec0c-1714a2e77a5d",
        "colab": {
          "base_uri": "https://localhost:8080/",
          "height": 34
        }
      },
      "source": [
        "np.argmax(pred)"
      ],
      "execution_count": 0,
      "outputs": [
        {
          "output_type": "execute_result",
          "data": {
            "text/plain": [
              "array([[0.9688572 , 0.03114283]], dtype=float32)"
            ]
          },
          "metadata": {
            "tags": []
          },
          "execution_count": 68
        }
      ]
    },
    {
      "cell_type": "code",
      "metadata": {
        "id": "2SVaP21rloKZ",
        "colab_type": "code",
        "colab": {}
      },
      "source": [
        "img = image.load_img(picture)#, target_size=(224, 224))\n",
        "plt.imshow(img)\n",
        "plt.show()\n",
        "apparent_age = np.round(np.sum(prediction * output_indexes, axis = 1))\n",
        "print(\"apparent age: \", int(apparent_age[0]))"
      ],
      "execution_count": 0,
      "outputs": []
    }
  ]
}